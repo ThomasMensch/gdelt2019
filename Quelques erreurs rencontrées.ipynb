{
 "cells": [
  {
   "cell_type": "markdown",
   "metadata": {},
   "source": [
    "# Quelques erreurs rencontrées et résolution\n",
    "\n"
   ]
  },
  {
   "cell_type": "markdown",
   "metadata": {},
   "source": [
    "Il est à noter que pour ce projet, nous utilisons un compte Amazon Educate.Il se peut donc qu'il y ait des erreurs très spécifiques à cette version.\n",
    "\n",
    "##### Erreur rencontrée:\n",
    "ClusterRésilié avec des erreursThe EC2 Security Groups [sg-0d3e49b7d23d67d03] contain one or more ingress rules to ports other than [22] which allow public access.\n",
    "\n",
    "→ Remove all the traffic from the other rules"
   ]
  },
  {
   "cell_type": "markdown",
   "metadata": {},
   "source": [
    "##### Erreur rencontrée:\n",
    "Permissions 0664 for 'key.pem' are too open.\n",
    "It is required that your private key files are NOT accessible by others.\n",
    "This private key will be ignored.\n",
    "Load key \"key.pem\": bad permissions\n",
    "hadoop@ec2-xxx-xxx-xxx-xxx.compute-1.amazonaws.com: Permission denied (publickey)\n",
    "\n",
    "→ Résolution:\n",
    "chmod 400 key.pem\n",
    "ou \n",
    "sudo ssh -i key.pem hadoop@ec2-xxx-xxx-xxx-xxx.compute-1.amazonaws.com\n"
   ]
  },
  {
   "cell_type": "markdown",
   "metadata": {},
   "source": [
    "### Erreur rencontrée:\n",
    "Downloading packages:\n",
    "cassandra-3.11.5-1.noarch.rpm  FAILED                                          \n",
    "https://www.apache.org/dist/cassandra/redhat/311x/cassandra-3.11.5-1.noarch.rpm: [Errno 14] curl#35 - \"OpenSSL SSL_connect: SSL_ERROR_SYSCALL in connection to www.apache.org:443 \"\n",
    "Essai d'un autre miroir.\n",
    "\n",
    "Error downloading packages:\n",
    "  cassandra-3.11.5-1.noarch: [Errno 256] No more mirrors to try."
   ]
  },
  {
   "cell_type": "markdown",
   "metadata": {},
   "source": [
    "### Erreur rencontrée:\n",
    "Si le noeud Cassandra ne veut pas démarrer avec la commande ./Cassandra, et renvoie une erreur relative aux data centers, il faut aller vider les répertoires suivants:\n",
    "commitlog\n",
    "data\n",
    "saved_caches\n",
    "relancer ensuite le noeud Cassandra\n",
    "=> \n",
    "http://prajeeth.com/tech_blog/apache/cassandra/cassandra_snitch_error/\n",
    "\n",
    "modif regles connections à propager sur chaque noeud: créer nouvelle règle = choisir “all trafic”\n",
    "\n",
    "les instances EC2, doivent permettre des connexions ssh, et permettre aux noeuds Cassandra de communiquer, en ajoutant les bloc CIDR issus du subnet du cluster généré:\n",
    "Tous les TCP + 0 - 65000 (range de ports + X.X.X.X/XYZ (bloc CIDR du subnet)\n"
   ]
  },
  {
   "cell_type": "code",
   "execution_count": null,
   "metadata": {},
   "outputs": [],
   "source": []
  }
 ],
 "metadata": {
  "kernelspec": {
   "display_name": "Python 3",
   "language": "python",
   "name": "python3"
  },
  "language_info": {
   "codemirror_mode": {
    "name": "ipython",
    "version": 3
   },
   "file_extension": ".py",
   "mimetype": "text/x-python",
   "name": "python",
   "nbconvert_exporter": "python",
   "pygments_lexer": "ipython3",
   "version": "3.7.5"
  }
 },
 "nbformat": 4,
 "nbformat_minor": 2
}
